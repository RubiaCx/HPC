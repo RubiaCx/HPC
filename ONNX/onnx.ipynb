{
 "cells": [
  {
   "cell_type": "code",
   "execution_count": 4,
   "metadata": {},
   "outputs": [],
   "source": [
    "import torch"
   ]
  },
  {
   "cell_type": "code",
   "execution_count": 5,
   "metadata": {},
   "outputs": [],
   "source": [
    "class JustReshape(torch.nn.Module):\n",
    "    def __init__(self):\n",
    "        super(JustReshape, self).__init__()\n",
    "\n",
    "    def forward(self, x):\n",
    "        return x.view((x.shape[0], x.shape[1], x.shape[3], x.shape[2]))\n",
    "net = JustReshape()\n",
    "model_name = 'just_reshape.onnx'\n",
    "dummy_input = torch.randn(2, 3, 4, 5)\n",
    "torch.onnx.export(net, dummy_input, model_name, input_names=['input'], output_names=['output'])"
   ]
  },
  {
   "cell_type": "markdown",
   "metadata": {},
   "source": [
    "- 生成的ONNX模型使用https://netron.app/展示如下所示，看起来已经经过了onnx-simplifier的优化\n",
    "\n",
    "<img src=\"../imgs/ONNX/onnx_simple1.png\"  alt=\"生成的ONNX模型\" style=\"width: 200px;\" align=\"center\"/>\n"
   ]
  },
  {
   "cell_type": "code",
   "execution_count": 6,
   "metadata": {},
   "outputs": [],
   "source": []
  }
 ],
 "metadata": {
  "kernelspec": {
   "display_name": "torch",
   "language": "python",
   "name": "python3"
  },
  "language_info": {
   "codemirror_mode": {
    "name": "ipython",
    "version": 3
   },
   "file_extension": ".py",
   "mimetype": "text/x-python",
   "name": "python",
   "nbconvert_exporter": "python",
   "pygments_lexer": "ipython3",
   "version": "3.9.19"
  }
 },
 "nbformat": 4,
 "nbformat_minor": 2
}
